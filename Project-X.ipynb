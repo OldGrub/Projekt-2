{
 "cells": [
  {
   "cell_type": "code",
   "execution_count": 1,
   "id": "b20ac21d",
   "metadata": {},
   "outputs": [],
   "source": [
    "import numpy as np"
   ]
  },
  {
   "cell_type": "markdown",
   "id": "f877c7bb",
   "metadata": {},
   "source": [
    "# Prosjekt 2"
   ]
  },
  {
   "cell_type": "markdown",
   "id": "16f310a9",
   "metadata": {},
   "source": [
    "## Task 1"
   ]
  },
  {
   "cell_type": "code",
   "execution_count": 2,
   "id": "7118d9b0",
   "metadata": {},
   "outputs": [
    {
     "name": "stdout",
     "output_type": "stream",
     "text": [
      "U:\n",
      "[[ 1.e+00 -1.e-06]\n",
      " [ 1.e-06  1.e+00]\n",
      " [ 0.e+00  0.e+00]]\n",
      "S:\n",
      "[1.0000005e+03 9.9999950e-01]\n",
      "Vt:\n",
      "[[ 0.9999995  0.001    ]\n",
      " [-0.001      0.9999995]]\n",
      "A1:\n",
      "[[1000.    1.]\n",
      " [  -0.    1.]\n",
      " [   0.    0.]]\n"
     ]
    }
   ],
   "source": [
    "###a)\n",
    "# Definerer matrisa\n",
    "A1 = np.array([[1000,1],[0,1],[0,0]])\n",
    "\n",
    "# Kalkulerer SVD med hjelp av innebygd numpy funksjon\n",
    "U,S,Vt = np.linalg.svd(A1, full_matrices = False)\n",
    "\n",
    "# Skriver ut resultatene \n",
    "print(\"U:\")\n",
    "print(U)\n",
    "print(\"S:\")\n",
    "print(S)\n",
    "print(\"Vt:\")\n",
    "print(Vt)\n",
    "\n",
    "# Tester om det blir likt, ved å bruke hintet for å gange de sammen\n",
    "H = U*S\n",
    "A_tilbake = np.around(H@Vt)\n",
    "print(\"A1:\")\n",
    "print(A_tilbake)"
   ]
  },
  {
   "cell_type": "markdown",
   "id": "99bdd6ba",
   "metadata": {},
   "source": [
    "Ved observasjon av av sigma, ser man at A har egenverdiene 1000, og 1. \n",
    "Derfor ser vi på egenvektorene korresponderende til den største egenverdien.\n",
    "Dette blir nemlig U_1, altså egenvektoren [1,1*10^-6,0]^T, siden denne forteller\n",
    "mest om A. "
   ]
  },
  {
   "cell_type": "code",
   "execution_count": 17,
   "id": "83332e19",
   "metadata": {
    "scrolled": true
   },
   "outputs": [
    {
     "name": "stdout",
     "output_type": "stream",
     "text": [
      "[[1. 0. 0.]\n",
      " [1. 0. 0.]\n",
      " [0. 0. 1.]]\n"
     ]
    }
   ],
   "source": [
    "###b)\n",
    "A2 = np.array([[1,0,0],[1,0,0],[0,0,1]])\n",
    "U,S,Vt = np.linalg.svd(A2, full_matrices = False)\n",
    "def trunkSVD(U,S,Vt,d):\n",
    "    d+=-1\n",
    "    W=U[:,:d]\n",
    "    Vt=Vt[:d,:]\n",
    "    S=np.diag(S[:d])\n",
    "    H=S@Vt\n",
    "    return(W,H)\n",
    "W_2,H=(trunkSVD(U,S,Vt,d=3))\n",
    "print(W_2 @ H)\n"
   ]
  },
  {
   "cell_type": "markdown",
   "id": "90d2bd7d",
   "metadata": {},
   "source": [
    "Siden vi bruker full_matrices = false, inkluderer ikke matrisen urelevant informasjon, den vil redusere matrisen slik at vi kun får relevant informasjon, eller nærmere bestemt, den mest relevante informasjonen. \n",
    "Hele poenget med trunk er å fokusere på den viktigste informasjonen, men i gjengjeld vil du miste de minste veridene og i A2 vil vi miste noen deler, siden alle verdiene er like. Trink prøver å bevare så mye så muligt, men siden den vektlegger alle veridnee likt, vil den noen verdier gå tapt. \n",
    "All informasjon i matrisen U vil være nyttige til å rekonstruere A, som betyr at ingen av kollonnene i A_2 er lineart avhengig av de andre. "
   ]
  },
  {
   "cell_type": "code",
   "execution_count": 18,
   "id": "91f41854",
   "metadata": {},
   "outputs": [],
   "source": [
    "###c)\n",
    "def orthproj(W, B):\n",
    "    # Kalkulerer projeksjonsmatrisen\n",
    "    P = W@W.T\n",
    "    # Projekterer kolonnene i B inn på \"ordboken\" W\n",
    "    PB = P@B\n",
    "    return PB"
   ]
  }
 ],
 "metadata": {
  "kernelspec": {
   "display_name": "Python 3 (ipykernel)",
   "language": "python",
   "name": "python3"
  },
  "language_info": {
   "codemirror_mode": {
    "name": "ipython",
    "version": 3
   },
   "file_extension": ".py",
   "mimetype": "text/x-python",
   "name": "python",
   "nbconvert_exporter": "python",
   "pygments_lexer": "ipython3",
   "version": "3.9.7"
  }
 },
 "nbformat": 4,
 "nbformat_minor": 5
}
